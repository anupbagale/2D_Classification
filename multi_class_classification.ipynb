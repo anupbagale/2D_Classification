{
  "nbformat": 4,
  "nbformat_minor": 0,
  "metadata": {
    "colab": {
      "provenance": [],
      "machine_shape": "hm",
      "gpuType": "V28",
      "include_colab_link": true
    },
    "kernelspec": {
      "name": "python3",
      "display_name": "Python 3"
    },
    "language_info": {
      "name": "python"
    },
    "accelerator": "TPU"
  },
  "cells": [
    {
      "cell_type": "markdown",
      "metadata": {
        "id": "view-in-github",
        "colab_type": "text"
      },
      "source": [
        "<a href=\"https://colab.research.google.com/github/anupbagale/2D_Classification/blob/main/multi_class_classification.ipynb\" target=\"_parent\"><img src=\"https://colab.research.google.com/assets/colab-badge.svg\" alt=\"Open In Colab\"/></a>"
      ]
    },
    {
      "cell_type": "code",
      "execution_count": null,
      "metadata": {
        "colab": {
          "base_uri": "https://localhost:8080/"
        },
        "id": "cEhajfTmWmr9",
        "outputId": "81f62468-bdd1-4da8-fd19-f5262959f64a"
      },
      "outputs": [
        {
          "output_type": "stream",
          "name": "stdout",
          "text": [
            "Mounted at /content/drive\n"
          ]
        }
      ],
      "source": [
        "from google.colab import drive\n",
        "drive.mount('/content/drive')"
      ]
    },
    {
      "cell_type": "code",
      "source": [
        "import numpy as np\n",
        "import matplotlib.pyplot as plt\n",
        "\n",
        "import tensorflow as tf\n",
        "from tensorflow.keras.layers import Conv2D, MaxPool2D, Dropout, Flatten, Dense, Activation\n",
        "from tensorflow.keras.models import Sequential\n",
        "from keras.preprocessing import image\n",
        "from tensorflow.keras.preprocessing.image import ImageDataGenerator"
      ],
      "metadata": {
        "id": "_oPp_dikXJss"
      },
      "execution_count": null,
      "outputs": []
    },
    {
      "cell_type": "code",
      "source": [
        "train_datagen= ImageDataGenerator(\n",
        "\n",
        "     rescale=1./255,\n",
        "                                         shear_range=0.2,\n",
        "                                         zoom_range=0.2,\n",
        "                                         horizontal_flip=True,\n",
        "                                         vertical_flip=True\n",
        ")\n",
        "\n",
        "train_data= train_datagen.flow_from_directory(\n",
        "    directory= '/content/drive/MyDrive/archive (1)/Data/train',\n",
        "    target_size=(256,256),\n",
        "    batch_size=32,\n",
        "    class_mode='categorical'\n",
        ")"
      ],
      "metadata": {
        "colab": {
          "base_uri": "https://localhost:8080/"
        },
        "id": "RZjSP05FXf2T",
        "outputId": "636280c4-f1cf-4271-e455-894f72a0c1a6"
      },
      "execution_count": null,
      "outputs": [
        {
          "output_type": "stream",
          "name": "stdout",
          "text": [
            "Found 5144 images belonging to 3 classes.\n"
          ]
        }
      ]
    },
    {
      "cell_type": "code",
      "source": [
        "train_data.class_indices"
      ],
      "metadata": {
        "colab": {
          "base_uri": "https://localhost:8080/"
        },
        "id": "GQi5VIcfXruh",
        "outputId": "4390d314-20e8-4225-f8db-339da41280af"
      },
      "execution_count": null,
      "outputs": [
        {
          "output_type": "execute_result",
          "data": {
            "text/plain": [
              "{'COVID19': 0, 'NORMAL': 1, 'PNEUMONIA': 2}"
            ]
          },
          "metadata": {},
          "execution_count": 4
        }
      ]
    },
    {
      "cell_type": "code",
      "source": [
        "test_datagen= ImageDataGenerator(\n",
        "\n",
        "     rescale=1./255,\n",
        "\n",
        ")\n",
        "\n",
        "test_data= test_datagen.flow_from_directory(\n",
        "    directory= '/content/drive/MyDrive/archive (1)/Data/test',\n",
        "    target_size=(256,256),\n",
        "    batch_size=32,\n",
        "    class_mode='categorical'\n",
        ")"
      ],
      "metadata": {
        "colab": {
          "base_uri": "https://localhost:8080/"
        },
        "id": "8LSFwkWMXuMT",
        "outputId": "61664887-bde7-4c0d-af14-6ff91002a2ea"
      },
      "execution_count": null,
      "outputs": [
        {
          "output_type": "stream",
          "name": "stdout",
          "text": [
            "Found 1292 images belonging to 3 classes.\n"
          ]
        }
      ]
    },
    {
      "cell_type": "code",
      "source": [
        "test_data.class_indices"
      ],
      "metadata": {
        "colab": {
          "base_uri": "https://localhost:8080/"
        },
        "id": "ap5vjYOxXwun",
        "outputId": "064d63a8-69e6-48ec-a022-65888da6a3ab"
      },
      "execution_count": null,
      "outputs": [
        {
          "output_type": "execute_result",
          "data": {
            "text/plain": [
              "{'COVID19': 0, 'NORMAL': 1, 'PNEUMONIA': 2}"
            ]
          },
          "metadata": {},
          "execution_count": 6
        }
      ]
    },
    {
      "cell_type": "code",
      "source": [
        "# Create a custom callback to collect training metrics during each epoch.\n",
        "class MetricsCallback(tf.keras.callbacks.Callback):\n",
        "    def __init__(self):\n",
        "        super().__init__()\n",
        "        self.history = {'loss': [], 'accuracy': [], 'val_loss': [], 'val_accuracy': []}\n",
        "\n",
        "    def on_epoch_end(self, epoch, logs=None):\n",
        "      # Store training metrics in the history dictionary.\n",
        "        for key in logs:\n",
        "            self.history[key].append(logs[key])\n",
        "\n",
        "# Initialize the custom callback\n",
        "metrics_callback = MetricsCallback()"
      ],
      "metadata": {
        "id": "_W2ZotzcXzGe"
      },
      "execution_count": null,
      "outputs": []
    },
    {
      "cell_type": "code",
      "source": [
        "model = Sequential()\n",
        "\n",
        "model.add(Conv2D(filters=32,kernel_size=(3,3),activation='relu',input_shape=(256,256,3)))\n",
        "\n",
        "model.add(Conv2D(filters=64, kernel_size=(3,3), activation='relu'))\n",
        "model.add(MaxPool2D(pool_size=(2,2)))\n",
        "model.add(Dropout(0.25))\n",
        "\n",
        "model.add(Conv2D(filters=64, kernel_size=(3,3), activation='relu'))\n",
        "model.add(MaxPool2D(pool_size=(2,2)))\n",
        "model.add(Dropout(0.25))\n",
        "\n",
        "model.add(Conv2D(filters=128, kernel_size=(3,3), activation='relu'))\n",
        "model.add(MaxPool2D(pool_size=(2,2)))\n",
        "model.add(Dropout(0.25))\n",
        "\n",
        "model.add(Flatten())\n",
        "model.add(Dense(units=64, activation='relu'))\n",
        "model.add(Dropout(0.5))\n",
        "model.add(Dense(units=3, activation='softmax'))\n",
        "\n",
        "# Compile the model with optimizer, loss function, and metrics.\n",
        "model.compile(optimizer='adam', loss='categorical_crossentropy', metrics=['accuracy'])\n"
      ],
      "metadata": {
        "id": "pGG4C_wgX30Q"
      },
      "execution_count": null,
      "outputs": []
    },
    {
      "cell_type": "code",
      "source": [
        "model.summary()"
      ],
      "metadata": {
        "colab": {
          "base_uri": "https://localhost:8080/"
        },
        "id": "gV6rhZcWX4mx",
        "outputId": "80606f3e-6f62-4da1-9873-99bb2ef99ea6"
      },
      "execution_count": null,
      "outputs": [
        {
          "output_type": "stream",
          "name": "stdout",
          "text": [
            "Model: \"sequential\"\n",
            "_________________________________________________________________\n",
            " Layer (type)                Output Shape              Param #   \n",
            "=================================================================\n",
            " conv2d (Conv2D)             (None, 254, 254, 32)      896       \n",
            "                                                                 \n",
            " conv2d_1 (Conv2D)           (None, 252, 252, 64)      18496     \n",
            "                                                                 \n",
            " max_pooling2d (MaxPooling2  (None, 126, 126, 64)      0         \n",
            " D)                                                              \n",
            "                                                                 \n",
            " dropout (Dropout)           (None, 126, 126, 64)      0         \n",
            "                                                                 \n",
            " conv2d_2 (Conv2D)           (None, 124, 124, 64)      36928     \n",
            "                                                                 \n",
            " max_pooling2d_1 (MaxPoolin  (None, 62, 62, 64)        0         \n",
            " g2D)                                                            \n",
            "                                                                 \n",
            " dropout_1 (Dropout)         (None, 62, 62, 64)        0         \n",
            "                                                                 \n",
            " conv2d_3 (Conv2D)           (None, 60, 60, 128)       73856     \n",
            "                                                                 \n",
            " max_pooling2d_2 (MaxPoolin  (None, 30, 30, 128)       0         \n",
            " g2D)                                                            \n",
            "                                                                 \n",
            " dropout_2 (Dropout)         (None, 30, 30, 128)       0         \n",
            "                                                                 \n",
            " flatten (Flatten)           (None, 115200)            0         \n",
            "                                                                 \n",
            " dense (Dense)               (None, 64)                7372864   \n",
            "                                                                 \n",
            " dropout_3 (Dropout)         (None, 64)                0         \n",
            "                                                                 \n",
            " dense_1 (Dense)             (None, 3)                 195       \n",
            "                                                                 \n",
            "=================================================================\n",
            "Total params: 7503235 (28.62 MB)\n",
            "Trainable params: 7503235 (28.62 MB)\n",
            "Non-trainable params: 0 (0.00 Byte)\n",
            "_________________________________________________________________\n"
          ]
        }
      ]
    },
    {
      "cell_type": "code",
      "source": [
        "model.fit(train_data, steps_per_epoch=len(train_data), epochs=10,\n",
        "          validation_data=test_data, validation_steps=len(test_data),\n",
        "          callbacks=[metrics_callback])\n"
      ],
      "metadata": {
        "colab": {
          "base_uri": "https://localhost:8080/"
        },
        "id": "dfcMASGkX6ja",
        "outputId": "03df1310-28f9-4ec2-c2cb-e8abd4111dec"
      },
      "execution_count": null,
      "outputs": [
        {
          "output_type": "stream",
          "name": "stdout",
          "text": [
            "Epoch 1/10\n",
            "161/161 [==============================] - 1009s 6s/step - loss: 0.8408 - accuracy: 0.6604 - val_loss: 0.5121 - val_accuracy: 0.7376\n",
            "Epoch 2/10\n",
            "161/161 [==============================] - 254s 2s/step - loss: 0.5991 - accuracy: 0.7339 - val_loss: 0.4705 - val_accuracy: 0.8622\n",
            "Epoch 3/10\n",
            "161/161 [==============================] - 256s 2s/step - loss: 0.5368 - accuracy: 0.7947 - val_loss: 0.4351 - val_accuracy: 0.8754\n",
            "Epoch 4/10\n",
            "161/161 [==============================] - 255s 2s/step - loss: 0.4957 - accuracy: 0.8054 - val_loss: 0.3981 - val_accuracy: 0.8615\n",
            "Epoch 5/10\n",
            "161/161 [==============================] - 257s 2s/step - loss: 0.4514 - accuracy: 0.8186 - val_loss: 0.3663 - val_accuracy: 0.8971\n",
            "Epoch 6/10\n",
            "161/161 [==============================] - 256s 2s/step - loss: 0.4397 - accuracy: 0.8402 - val_loss: 0.2810 - val_accuracy: 0.9110\n",
            "Epoch 7/10\n",
            "161/161 [==============================] - 257s 2s/step - loss: 0.3856 - accuracy: 0.8575 - val_loss: 0.2590 - val_accuracy: 0.9102\n",
            "Epoch 8/10\n",
            "161/161 [==============================] - 256s 2s/step - loss: 0.3630 - accuracy: 0.8651 - val_loss: 0.2498 - val_accuracy: 0.9265\n",
            "Epoch 9/10\n",
            "161/161 [==============================] - 256s 2s/step - loss: 0.3610 - accuracy: 0.8680 - val_loss: 0.2605 - val_accuracy: 0.9079\n",
            "Epoch 10/10\n",
            "161/161 [==============================] - 257s 2s/step - loss: 0.3362 - accuracy: 0.8744 - val_loss: 0.2343 - val_accuracy: 0.9280\n"
          ]
        },
        {
          "output_type": "execute_result",
          "data": {
            "text/plain": [
              "<keras.src.callbacks.History at 0x7f709c022ad0>"
            ]
          },
          "metadata": {},
          "execution_count": 10
        }
      ]
    },
    {
      "cell_type": "code",
      "source": [
        "print(model.history.history.keys())"
      ],
      "metadata": {
        "colab": {
          "base_uri": "https://localhost:8080/"
        },
        "id": "IbUKd_oMX-cc",
        "outputId": "d29ef556-9f16-43d3-d8aa-b97f1077a689"
      },
      "execution_count": null,
      "outputs": [
        {
          "output_type": "stream",
          "name": "stdout",
          "text": [
            "dict_keys(['loss', 'accuracy', 'val_loss', 'val_accuracy'])\n"
          ]
        }
      ]
    },
    {
      "cell_type": "code",
      "source": [
        "plt.figure(figsize=(10, 5))\n",
        "\n",
        "plt.subplot(1, 2, 1)\n",
        "plt.plot(metrics_callback.history['loss'], label='Training Loss')\n",
        "plt.plot(metrics_callback.history['val_loss'], label='Validation Loss')\n",
        "plt.title('Training and Validation Loss')\n",
        "plt.xlabel('Epoch')\n",
        "plt.ylabel('Loss')\n",
        "plt.legend()\n",
        "\n",
        "plt.subplot(1, 2, 2)\n",
        "plt.plot(metrics_callback.history['accuracy'], label='Training Accuracy')\n",
        "plt.plot(metrics_callback.history['val_accuracy'], label='Validation Accuracy')\n",
        "plt.title('Training and Validation Accuracy')\n",
        "plt.xlabel('Epoch')\n",
        "plt.ylabel('Accuracy')\n",
        "plt.legend()\n",
        "\n",
        "plt.tight_layout()\n",
        "plt.show()"
      ],
      "metadata": {
        "colab": {
          "base_uri": "https://localhost:8080/",
          "height": 507
        },
        "id": "U0xI1NDaX-a2",
        "outputId": "bfb2ef90-d530-4049-ccba-8175dae9d4f1"
      },
      "execution_count": null,
      "outputs": [
        {
          "output_type": "display_data",
          "data": {
            "text/plain": [
              "<Figure size 1000x500 with 2 Axes>"
            ],
            "image/png": "[encoded data removed]"
          },
          "metadata": {}
        }
      ]
    },
    {
      "cell_type": "code",
      "source": [
        "loss, accuracy = model.evaluate(test_data, verbose=False)\n",
        "\n",
        "print(\"Accuracy:\", accuracy)\n",
        "print(\"Loss:\", loss)\n"
      ],
      "metadata": {
        "colab": {
          "base_uri": "https://localhost:8080/"
        },
        "id": "WP-7GgeautRy",
        "outputId": "b1e6247f-9b84-4b17-92b9-35e9b37e26ec"
      },
      "execution_count": null,
      "outputs": [
        {
          "output_type": "stream",
          "name": "stdout",
          "text": [
            "Accuracy: 0.9280185699462891\n",
            "Loss: 0.23429471254348755\n"
          ]
        }
      ]
    },
    {
      "cell_type": "code",
      "source": [],
      "metadata": {
        "id": "3RhCamnbvIR5"
      },
      "execution_count": null,
      "outputs": []
    }
  ]
}