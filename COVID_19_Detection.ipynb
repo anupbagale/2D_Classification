{
  "nbformat": 4,
  "nbformat_minor": 0,
  "metadata": {
    "colab": {
      "provenance": [],
      "machine_shape": "hm",
      "gpuType": "V28",
      "authorship_tag": "ABX9TyOgP+V7OxDvyvu60RIbzAxC",
      "include_colab_link": true
    },
    "kernelspec": {
      "name": "python3",
      "display_name": "Python 3"
    },
    "language_info": {
      "name": "python"
    },
    "accelerator": "TPU"
  },
  "cells": [
    {
      "cell_type": "markdown",
      "metadata": {
        "id": "view-in-github",
        "colab_type": "text"
      },
      "source": [
        "<a href=\"https://colab.research.google.com/github/anupbagale/2D_Classification/blob/main/COVID_19_Detection.ipynb\" target=\"_parent\"><img src=\"https://colab.research.google.com/assets/colab-badge.svg\" alt=\"Open In Colab\"/></a>"
      ]
    },
    {
      "cell_type": "markdown",
      "source": [
        "### Setup Drive"
      ],
      "metadata": {
        "id": "GLwXCS8aJ7JH"
      }
    },
    {
      "cell_type": "code",
      "execution_count": 1,
      "metadata": {
        "colab": {
          "base_uri": "https://localhost:8080/"
        },
        "id": "FaP2WQWHB8OI",
        "outputId": "4e32a7e4-dcd9-4cce-e819-dad8dc9f3623"
      },
      "outputs": [
        {
          "output_type": "stream",
          "name": "stdout",
          "text": [
            "Mounted at /content/drive\n"
          ]
        }
      ],
      "source": [
        "from google.colab import drive\n",
        "drive.mount('/content/drive')"
      ]
    },
    {
      "cell_type": "markdown",
      "source": [
        "### Setup imports"
      ],
      "metadata": {
        "id": "sDrKd7VnKdK6"
      }
    },
    {
      "cell_type": "code",
      "source": [
        "# Import necessary libraries for plotting, TensorFlow, and Keras layers/models.\n",
        "# We're using Matplotlib for plotting and TensorFlow with Keras for building and training the model.\n",
        "\n",
        "import numpy as np\n",
        "import matplotlib.pyplot as plt\n",
        "\n",
        "import tensorflow as tf\n",
        "from tensorflow.keras.layers import Conv2D, MaxPool2D, Dropout, Flatten, Dense, Activation\n",
        "from tensorflow.keras.models import Sequential\n",
        "from keras.preprocessing import image\n",
        "from tensorflow.keras.preprocessing.image import ImageDataGenerator"
      ],
      "metadata": {
        "id": "EKROZeDBCHZS"
      },
      "execution_count": 2,
      "outputs": []
    },
    {
      "cell_type": "markdown",
      "source": [
        "### Setup training dataset and datagenerator"
      ],
      "metadata": {
        "id": "R56bMAG8Kxsf"
      }
    },
    {
      "cell_type": "code",
      "source": [
        "# Data augmentation and preprocessing for training images.\n",
        "train_datagen= ImageDataGenerator(\n",
        "\n",
        "     rescale=1./255,\n",
        "                                         shear_range=0.2,\n",
        "                                         zoom_range=0.2,\n",
        "                                         horizontal_flip=True,\n",
        "                                         vertical_flip=True\n",
        ")\n",
        "\n",
        "train_data= train_datagen.flow_from_directory(\n",
        "    directory= 'path_to_training_dataset',\n",
        "    target_size=(256,256),\n",
        "    batch_size=32,\n",
        "    class_mode='binary'\n",
        ")"
      ],
      "metadata": {
        "colab": {
          "base_uri": "https://localhost:8080/"
        },
        "id": "X7ptjVsMCJwW",
        "outputId": "31c8fc4e-35d4-4ab7-f0c2-276757194f57"
      },
      "execution_count": 3,
      "outputs": [
        {
          "output_type": "stream",
          "name": "stdout",
          "text": [
            "Found 1726 images belonging to 2 classes.\n"
          ]
        }
      ]
    },
    {
      "cell_type": "code",
      "source": [
        "train_data.class_indices"
      ],
      "metadata": {
        "colab": {
          "base_uri": "https://localhost:8080/"
        },
        "id": "DlQxxZJ0CNSk",
        "outputId": "9b41787e-39cb-4965-ce78-9e45421de9e7"
      },
      "execution_count": 4,
      "outputs": [
        {
          "output_type": "execute_result",
          "data": {
            "text/plain": [
              "{'COVID19': 0, 'NORMAL': 1}"
            ]
          },
          "metadata": {},
          "execution_count": 4
        }
      ]
    },
    {
      "cell_type": "markdown",
      "source": [
        "### Setup testing dataset and datagenerator"
      ],
      "metadata": {
        "id": "iBqski8dLWAi"
      }
    },
    {
      "cell_type": "code",
      "source": [
        "\n",
        "test_datagen= ImageDataGenerator(\n",
        "\n",
        "     rescale=1./255,\n",
        "\n",
        ")\n",
        "\n",
        "test_data= test_datagen.flow_from_directory(\n",
        "    directory= 'path_to_test_dataset',\n",
        "    target_size=(256,256),\n",
        "    batch_size=32,\n",
        "    class_mode='binary'\n",
        ")"
      ],
      "metadata": {
        "colab": {
          "base_uri": "https://localhost:8080/"
        },
        "id": "85j3xrTwCP4q",
        "outputId": "a48aafc1-3eb2-4b8a-fed6-412f9d1df3b4"
      },
      "execution_count": 5,
      "outputs": [
        {
          "output_type": "stream",
          "name": "stdout",
          "text": [
            "Found 433 images belonging to 2 classes.\n"
          ]
        }
      ]
    },
    {
      "cell_type": "code",
      "source": [
        "test_data.class_indices"
      ],
      "metadata": {
        "colab": {
          "base_uri": "https://localhost:8080/"
        },
        "id": "ErmN1ntJCQrV",
        "outputId": "d99ec7ac-cc35-4795-b127-f51c552155a7"
      },
      "execution_count": 6,
      "outputs": [
        {
          "output_type": "execute_result",
          "data": {
            "text/plain": [
              "{'COVID19': 0, 'NORMAL': 1}"
            ]
          },
          "metadata": {},
          "execution_count": 6
        }
      ]
    },
    {
      "cell_type": "markdown",
      "source": [
        "### Create Custom Callback"
      ],
      "metadata": {
        "id": "fzSMO4x4LwuR"
      }
    },
    {
      "cell_type": "code",
      "source": [
        "# Create a custom callback to collect training metrics during each epoch.\n",
        "class MetricsCallback(tf.keras.callbacks.Callback):\n",
        "    def __init__(self):\n",
        "        super().__init__()\n",
        "        self.history = {'loss': [], 'accuracy': [], 'val_loss': [], 'val_accuracy': []}\n",
        "\n",
        "    def on_epoch_end(self, epoch, logs=None):\n",
        "      # Store training metrics in the history dictionary.\n",
        "        for key in logs:\n",
        "            self.history[key].append(logs[key])\n",
        "\n",
        "# Initialize the custom callback\n",
        "metrics_callback = MetricsCallback()\n"
      ],
      "metadata": {
        "id": "UVh73MrCCSmS"
      },
      "execution_count": 7,
      "outputs": []
    },
    {
      "cell_type": "markdown",
      "source": [
        "### Create model architecture"
      ],
      "metadata": {
        "id": "yrrY5WddMMPi"
      }
    },
    {
      "cell_type": "code",
      "source": [
        "model = Sequential()\n",
        "\n",
        "model.add(Conv2D(filters=32,kernel_size=(3,3),activation='relu',input_shape=(256,256,3)))\n",
        "\n",
        "model.add(Conv2D(filters=64, kernel_size=(3,3), activation='relu'))\n",
        "model.add(MaxPool2D(pool_size=(2,2)))\n",
        "model.add(Dropout(0.25))\n",
        "\n",
        "model.add(Conv2D(filters=64, kernel_size=(3,3), activation='relu'))\n",
        "model.add(MaxPool2D(pool_size=(2,2)))\n",
        "model.add(Dropout(0.25))\n",
        "\n",
        "model.add(Conv2D(filters=128, kernel_size=(3,3), activation='relu'))\n",
        "model.add(MaxPool2D(pool_size=(2,2)))\n",
        "model.add(Dropout(0.25))\n",
        "\n",
        "model.add(Flatten())\n",
        "model.add(Dense(units=64, activation='relu'))\n",
        "model.add(Dropout(0.5))\n",
        "model.add(Dense(units=1, activation='sigmoid'))\n",
        "\n",
        "# Compile the model with optimizer, loss function, and metrics.\n",
        "model.compile(optimizer='adam', loss='binary_crossentropy', metrics=['accuracy'])"
      ],
      "metadata": {
        "id": "QKu5j2NnCXZZ"
      },
      "execution_count": 8,
      "outputs": []
    },
    {
      "cell_type": "code",
      "source": [
        "model.summary()"
      ],
      "metadata": {
        "colab": {
          "base_uri": "https://localhost:8080/"
        },
        "id": "5I08TXcKCZUf",
        "outputId": "54ff43a4-72ec-44e2-b8f7-e34fc12f322c"
      },
      "execution_count": 9,
      "outputs": [
        {
          "output_type": "stream",
          "name": "stdout",
          "text": [
            "Model: \"sequential\"\n",
            "_________________________________________________________________\n",
            " Layer (type)                Output Shape              Param #   \n",
            "=================================================================\n",
            " conv2d (Conv2D)             (None, 254, 254, 32)      896       \n",
            "                                                                 \n",
            " conv2d_1 (Conv2D)           (None, 252, 252, 64)      18496     \n",
            "                                                                 \n",
            " max_pooling2d (MaxPooling2  (None, 126, 126, 64)      0         \n",
            " D)                                                              \n",
            "                                                                 \n",
            " dropout (Dropout)           (None, 126, 126, 64)      0         \n",
            "                                                                 \n",
            " conv2d_2 (Conv2D)           (None, 124, 124, 64)      36928     \n",
            "                                                                 \n",
            " max_pooling2d_1 (MaxPoolin  (None, 62, 62, 64)        0         \n",
            " g2D)                                                            \n",
            "                                                                 \n",
            " dropout_1 (Dropout)         (None, 62, 62, 64)        0         \n",
            "                                                                 \n",
            " conv2d_3 (Conv2D)           (None, 60, 60, 128)       73856     \n",
            "                                                                 \n",
            " max_pooling2d_2 (MaxPoolin  (None, 30, 30, 128)       0         \n",
            " g2D)                                                            \n",
            "                                                                 \n",
            " dropout_2 (Dropout)         (None, 30, 30, 128)       0         \n",
            "                                                                 \n",
            " flatten (Flatten)           (None, 115200)            0         \n",
            "                                                                 \n",
            " dense (Dense)               (None, 64)                7372864   \n",
            "                                                                 \n",
            " dropout_3 (Dropout)         (None, 64)                0         \n",
            "                                                                 \n",
            " dense_1 (Dense)             (None, 1)                 65        \n",
            "                                                                 \n",
            "=================================================================\n",
            "Total params: 7503105 (28.62 MB)\n",
            "Trainable params: 7503105 (28.62 MB)\n",
            "Non-trainable params: 0 (0.00 Byte)\n",
            "_________________________________________________________________\n"
          ]
        }
      ]
    },
    {
      "cell_type": "markdown",
      "source": [
        "### Run training loop"
      ],
      "metadata": {
        "id": "5lZfw870MgRR"
      }
    },
    {
      "cell_type": "code",
      "source": [
        "model.fit(train_data, steps_per_epoch=len(train_data), epochs=10,\n",
        "          validation_data=test_data, validation_steps=len(test_data),\n",
        "          callbacks=[metrics_callback])\n"
      ],
      "metadata": {
        "colab": {
          "base_uri": "https://localhost:8080/"
        },
        "id": "NutnMKmYCby6",
        "outputId": "166982ce-b60f-4692-c591-c75da24ba1de"
      },
      "execution_count": 10,
      "outputs": [
        {
          "output_type": "stream",
          "name": "stdout",
          "text": [
            "Epoch 1/10\n",
            "54/54 [==============================] - 323s 6s/step - loss: 0.6683 - accuracy: 0.7277 - val_loss: 0.3707 - val_accuracy: 0.7321\n",
            "Epoch 2/10\n",
            "54/54 [==============================] - 90s 2s/step - loss: 0.3846 - accuracy: 0.8059 - val_loss: 0.2045 - val_accuracy: 0.9376\n",
            "Epoch 3/10\n",
            "54/54 [==============================] - 90s 2s/step - loss: 0.3082 - accuracy: 0.8714 - val_loss: 0.1516 - val_accuracy: 0.9538\n",
            "Epoch 4/10\n",
            "54/54 [==============================] - 89s 2s/step - loss: 0.2805 - accuracy: 0.8917 - val_loss: 0.1085 - val_accuracy: 0.9607\n",
            "Epoch 5/10\n",
            "54/54 [==============================] - 89s 2s/step - loss: 0.2611 - accuracy: 0.9038 - val_loss: 0.1293 - val_accuracy: 0.9561\n",
            "Epoch 6/10\n",
            "54/54 [==============================] - 89s 2s/step - loss: 0.2583 - accuracy: 0.9038 - val_loss: 0.1086 - val_accuracy: 0.9723\n",
            "Epoch 7/10\n",
            "54/54 [==============================] - 90s 2s/step - loss: 0.2289 - accuracy: 0.9166 - val_loss: 0.1202 - val_accuracy: 0.9723\n",
            "Epoch 8/10\n",
            "54/54 [==============================] - 89s 2s/step - loss: 0.3043 - accuracy: 0.8824 - val_loss: 0.1649 - val_accuracy: 0.9400\n",
            "Epoch 9/10\n",
            "54/54 [==============================] - 90s 2s/step - loss: 0.2286 - accuracy: 0.9206 - val_loss: 0.1391 - val_accuracy: 0.9492\n",
            "Epoch 10/10\n",
            "54/54 [==============================] - 90s 2s/step - loss: 0.2045 - accuracy: 0.9357 - val_loss: 0.1064 - val_accuracy: 0.9838\n"
          ]
        },
        {
          "output_type": "execute_result",
          "data": {
            "text/plain": [
              "<keras.src.callbacks.History at 0x7e3cf4767c70>"
            ]
          },
          "metadata": {},
          "execution_count": 10
        }
      ]
    },
    {
      "cell_type": "code",
      "source": [
        "print(model.history.history.keys())"
      ],
      "metadata": {
        "colab": {
          "base_uri": "https://localhost:8080/"
        },
        "id": "tVT-GKC0HtG6",
        "outputId": "1c7b8559-c7a9-4f62-e691-bf5da5dd61d3"
      },
      "execution_count": 13,
      "outputs": [
        {
          "output_type": "stream",
          "name": "stdout",
          "text": [
            "dict_keys(['loss', 'accuracy', 'val_loss', 'val_accuracy'])\n"
          ]
        }
      ]
    },
    {
      "cell_type": "markdown",
      "source": [
        "### Plot the loss and accuracy"
      ],
      "metadata": {
        "id": "uefF0PV4Mo0z"
      }
    },
    {
      "cell_type": "code",
      "source": [
        "plt.figure(figsize=(10, 5))\n",
        "\n",
        "plt.subplot(1, 2, 1)\n",
        "plt.plot(metrics_callback.history['loss'], label='Training Loss')\n",
        "plt.plot(metrics_callback.history['val_loss'], label='Validation Loss')\n",
        "plt.title('Training and Validation Loss')\n",
        "plt.xlabel('Epoch')\n",
        "plt.ylabel('Loss')\n",
        "plt.legend()\n",
        "\n",
        "plt.subplot(1, 2, 2)\n",
        "plt.plot(metrics_callback.history['accuracy'], label='Training Accuracy')\n",
        "plt.plot(metrics_callback.history['val_accuracy'], label='Validation Accuracy')\n",
        "plt.title('Training and Validation Accuracy')\n",
        "plt.xlabel('Epoch')\n",
        "plt.ylabel('Accuracy')\n",
        "plt.legend()\n",
        "\n",
        "plt.tight_layout()\n",
        "plt.show()"
      ],
      "metadata": {
        "colab": {
          "base_uri": "https://localhost:8080/",
          "height": 507
        },
        "id": "F3ABJ2ZLCfkR",
        "outputId": "7d2b26ce-e1e6-4286-aef9-fd026dfff160"
      },
      "execution_count": 11,
      "outputs": [
        {
          "output_type": "display_data",
          "data": {
            "text/plain": [
              "<Figure size 1000x500 with 2 Axes>"
            ],
            "image/png": "[encoded data removed]"
          },
          "metadata": {}
        }
      ]
    },
    {
      "cell_type": "markdown",
      "source": [
        "### Random check"
      ],
      "metadata": {
        "id": "TR5bONEeNBVJ"
      }
    },
    {
      "cell_type": "code",
      "source": [
        "path=\"path_to_random_image\"\n",
        "img=image.load_img(path,target_size=(256,256))\n",
        "\n",
        "img= image.img_to_array(img)/255\n",
        "img=np.expand_dims(img,axis=0)\n",
        "predictions = (model.predict(img) > 0.5).astype(\"int32\")\n",
        "print(predictions)\n",
        "if predictions[0][0]==0:\n",
        "  print(\"Covid\")\n",
        "else:\n",
        "  print(\"Normal\")"
      ],
      "metadata": {
        "colab": {
          "base_uri": "https://localhost:8080/"
        },
        "id": "nmJuo-vKIW8y",
        "outputId": "af6095ba-523d-41bb-b20b-129083fb7cd2"
      },
      "execution_count": 23,
      "outputs": [
        {
          "output_type": "stream",
          "name": "stdout",
          "text": [
            "1/1 [==============================] - 0s 38ms/step\n",
            "[[0]]\n",
            "Covid\n"
          ]
        }
      ]
    },
    {
      "cell_type": "code",
      "source": [
        "path=\"path_to_random_image\"\n",
        "img=image.load_img(path,target_size=(256,256))\n",
        "\n",
        "img= image.img_to_array(img)/255\n",
        "img=np.array([img])\n",
        "predictions = (model.predict(img) > 0.5).astype(\"int32\")\n",
        "print(predictions)\n",
        "if predictions[0][0]==0:\n",
        "  print(\"Covid\")\n",
        "else:\n",
        "  print(\"Normal\")"
      ],
      "metadata": {
        "colab": {
          "base_uri": "https://localhost:8080/"
        },
        "id": "D5QIWdvhIaUA",
        "outputId": "2b683ddc-1e7f-47d7-87c2-3ba00a477e7d"
      },
      "execution_count": 25,
      "outputs": [
        {
          "output_type": "stream",
          "name": "stdout",
          "text": [
            "1/1 [==============================] - 0s 37ms/step\n",
            "[[1]]\n",
            "Normal\n"
          ]
        }
      ]
    },
    {
      "cell_type": "code",
      "source": [],
      "metadata": {
        "id": "NoBMXWvqI35p"
      },
      "execution_count": null,
      "outputs": []
    }
  ]
}
